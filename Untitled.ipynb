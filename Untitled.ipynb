{
 "cells": [
  {
   "cell_type": "markdown",
   "metadata": {},
   "source": [
    "### DATA LOADING"
   ]
  },
  {
   "cell_type": "code",
   "execution_count": null,
   "metadata": {},
   "outputs": [],
   "source": [
    "%load_ext autoreload\n",
    "%autoreload 2\n",
    "\n",
    "import numpy as np\n",
    "import pickle\n",
    "import time\n",
    "import dataLoad\n",
    "from LeapMotionConfig import subSampling, modifications\n",
    "\n",
    "# loads all pickled data from data folder. return list of data\n",
    "unconfigured_data = dataLoad.load_directory_data('./data_folder/current')\n",
    "for key, value in unconfigured_data[0].items():\n",
    "    print (key)\n",
    "\n",
    "feature_matrices = dataLoad.batch_unwrap_feamats( unconfigured_data )\n",
    "motion_data = dataLoad.batch_unwrap_motion_data( unconfigured_data )\n",
    "time_deltas = dataLoad.batch_unwrap_time_deltas( unconfigured_data )\n",
    "\n",
    "#just use data from a single file for example\n",
    "feature_matrices = feature_matrices[0]\n",
    "motion_data = motion_data[0] \n",
    "time_deltas = time_deltas[0]"
   ]
  },
  {
   "cell_type": "markdown",
   "metadata": {},
   "source": [
    "### CONVERSION TO DATASET"
   ]
  },
  {
   "cell_type": "code",
   "execution_count": null,
   "metadata": {},
   "outputs": [],
   "source": [
    "#convert all motion data list of lists to a single list. Downsample each list to nearest 5 degrees.\n",
    "motion_data_processed = []\n",
    "for i, matrix_list in enumerate(motion_data):\n",
    "    lengths = map( len, matrix_list )\n",
    "    if( 0 not in lengths ):\n",
    "        matrix = subSampling.list_to_single_matrix(matrix_list)\n",
    "        matrix = subSampling.round_to_nearest(matrix, interval=10)\n",
    "        matrix = subSampling.decimate_joint_complexity(matrix, threshold=50) #anything above 50 degrees in the proximal phalanx is considered movement.\n",
    "    # velocity matrix conversions if wanted:\n",
    "    #    if i == 0:  velocity_matrix_list = modifications.get_velocity_conversions(matrix_list, time_deltas[i], previous_matrix=None, previous_time_deltas=None)\n",
    "    #    else:       velocity_matrix_list = modifications.get_velocity_conversions(matrix_list, time_deltas[i], previous_matrix=motion_data[i-1], previous_time_deltas=time_deltas[i-1])\n",
    "    #    single_matrix = subSampling.list_to_single_matrix(velocity_matrix_list)\n",
    "    #    downsampled_matrix = subSampling.round_to_nearest(single_matrix, interval=5)\n",
    "        motion_data_processed.append(matrix)\n",
    "\n",
    "    else: #motion data was empty (bug in data collection). Zero-out associated feature matrix, create dummy motion data.\n",
    "        \n",
    "        motion_data_processed.append( subSampling.get_LeapMotion_zero_matrix() )\n",
    "        feature_matrices[i] = 0*feature_matrices[i]\n",
    "\n",
    "# print one of each index\n",
    "print( motion_data_processed[1160] )\n",
    "print( feature_matrices[1160] )\n",
    "\n",
    "# for i in range(500, 2500):\n",
    "#      print(i, \" \" , motion_data_processed[i])\n",
    "\n",
    "#print length for verification\n",
    "print(len(motion_data_processed))\n",
    "print(len(feature_matrices))"
   ]
  },
  {
   "cell_type": "markdown",
   "metadata": {},
   "source": [
    "### PLOT "
   ]
  },
  {
   "cell_type": "code",
   "execution_count": null,
   "metadata": {},
   "outputs": [],
   "source": [
    "%matplotlib inline\n",
    "#%aimport Visualization.singlePlot\n",
    "from importlib import reload\n",
    "reload(Visualization.singlePlot)\n",
    "\n",
    "plot_object = Visualization.singlePlot.singlePlot(features=feature_matrices, motion_data=motion_data_processed, feature_count=14)\n",
    "plot_object.select_channels([ 1 ]) #plot channels from first channel.\n",
    "plot_object.plot_data()"
   ]
  },
  {
   "cell_type": "code",
   "execution_count": null,
   "metadata": {},
   "outputs": [],
   "source": []
  },
  {
   "cell_type": "code",
   "execution_count": null,
   "metadata": {},
   "outputs": [],
   "source": []
  }
 ],
 "metadata": {
  "kernelspec": {
   "display_name": "Python 3",
   "language": "python",
   "name": "python3"
  },
  "language_info": {
   "codemirror_mode": {
    "name": "ipython",
    "version": 3
   },
   "file_extension": ".py",
   "mimetype": "text/x-python",
   "name": "python",
   "nbconvert_exporter": "python",
   "pygments_lexer": "ipython3",
   "version": "3.7.4"
  }
 },
 "nbformat": 4,
 "nbformat_minor": 4
}